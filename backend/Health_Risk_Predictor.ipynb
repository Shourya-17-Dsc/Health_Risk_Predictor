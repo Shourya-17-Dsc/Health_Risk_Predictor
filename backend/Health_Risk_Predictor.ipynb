{
 "cells": [
  {
   "cell_type": "markdown",
   "id": "da8a8941-ab4d-4410-869f-093fade25e06",
   "metadata": {},
   "source": [
    "# IMPORT LIBRARIES \n"
   ]
  },
  {
   "cell_type": "code",
   "execution_count": 1,
   "id": "2d526ddc-c388-4816-bdc5-b9e8f7192ceb",
   "metadata": {},
   "outputs": [],
   "source": [
    "import pandas as pd\n",
    "import numpy as np\n",
    "from sklearn.model_selection import train_test_split\n",
    "from sklearn.preprocessing import LabelEncoder\n",
    "from sklearn.impute import SimpleImputer\n",
    "from sklearn.ensemble import RandomForestClassifier\n",
    "import pickle\n",
    "\n"
   ]
  },
  {
   "cell_type": "markdown",
   "id": "b169ed4d-244b-4e74-b6ca-546bcaf6ab49",
   "metadata": {},
   "source": [
    "# LOAD THE DATA \n",
    "\n"
   ]
  },
  {
   "cell_type": "code",
   "execution_count": 7,
   "id": "9e1d790d-1642-4164-bc58-d7210aaa3acc",
   "metadata": {},
   "outputs": [
    {
     "name": "stderr",
     "output_type": "stream",
     "text": [
      "C:\\Users\\KIIT0001\\AppData\\Local\\Temp\\ipykernel_27664\\2067609840.py:56: SettingWithCopyWarning: \n",
      "A value is trying to be set on a copy of a slice from a DataFrame.\n",
      "Try using .loc[row_indexer,col_indexer] = value instead\n",
      "\n",
      "See the caveats in the documentation: https://pandas.pydata.org/pandas-docs/stable/user_guide/indexing.html#returning-a-view-versus-a-copy\n",
      "  X[col] = enc.fit_transform(X[col].astype(str))\n",
      "C:\\Users\\KIIT0001\\AppData\\Local\\Temp\\ipykernel_27664\\2067609840.py:56: SettingWithCopyWarning: \n",
      "A value is trying to be set on a copy of a slice from a DataFrame.\n",
      "Try using .loc[row_indexer,col_indexer] = value instead\n",
      "\n",
      "See the caveats in the documentation: https://pandas.pydata.org/pandas-docs/stable/user_guide/indexing.html#returning-a-view-versus-a-copy\n",
      "  X[col] = enc.fit_transform(X[col].astype(str))\n",
      "C:\\Users\\KIIT0001\\AppData\\Local\\Temp\\ipykernel_27664\\2067609840.py:56: SettingWithCopyWarning: \n",
      "A value is trying to be set on a copy of a slice from a DataFrame.\n",
      "Try using .loc[row_indexer,col_indexer] = value instead\n",
      "\n",
      "See the caveats in the documentation: https://pandas.pydata.org/pandas-docs/stable/user_guide/indexing.html#returning-a-view-versus-a-copy\n",
      "  X[col] = enc.fit_transform(X[col].astype(str))\n",
      "C:\\Users\\KIIT0001\\AppData\\Local\\Temp\\ipykernel_27664\\2067609840.py:56: SettingWithCopyWarning: \n",
      "A value is trying to be set on a copy of a slice from a DataFrame.\n",
      "Try using .loc[row_indexer,col_indexer] = value instead\n",
      "\n",
      "See the caveats in the documentation: https://pandas.pydata.org/pandas-docs/stable/user_guide/indexing.html#returning-a-view-versus-a-copy\n",
      "  X[col] = enc.fit_transform(X[col].astype(str))\n"
     ]
    },
    {
     "name": "stdout",
     "output_type": "stream",
     "text": [
      " Diabetes Model Accuracy: 0.9998075442648191\n",
      " BP Model Accuracy: 0.9984603541185527\n"
     ]
    }
   ],
   "source": [
    "file_path = \"employee_daily_diagnose.csv.xlsx\"  # make sure this is in your working directory\n",
    "df = pd.read_excel(file_path)\n",
    "df_clean = df.copy()\n",
    "\n",
    "# Convert health parameters to float\n",
    "numeric_columns = ['bmi', 'LDL', 'VLDL', 'HDlCholestrol', 'sugar_r', 'chol', 'tg']\n",
    "df_clean[numeric_columns] = df_clean[numeric_columns].apply(pd.to_numeric, errors='coerce')\n",
    "\n",
    "# Extract systolic and diastolic from bp column\n",
    "df_clean[['systolic_bp', 'diastolic_bp']] = df_clean['bp'].str.extract(r'(\\d+)[^\\d]+(\\d+)', expand=True).astype(float)\n",
    "\n",
    "df_clean.drop(columns=['bp'], inplace=True)\n",
    "\n",
    "# STEP 4: CREATE TARGET LABELS\n",
    "def classify_diabetes(sugar_r):\n",
    "    if pd.isna(sugar_r):\n",
    "        return np.nan\n",
    "    elif sugar_r < 140:\n",
    "        return 'Normal'\n",
    "    elif 140 <= sugar_r < 200:\n",
    "        return 'Pre-Diabetic'\n",
    "    else:\n",
    "        return 'Diabetic'\n",
    "\n",
    "def classify_bp(sys, dia):\n",
    "    if pd.isna(sys) or pd.isna(dia):\n",
    "        return np.nan\n",
    "    elif sys < 120 and dia < 80:\n",
    "        return 'Normal'\n",
    "    elif (120 <= sys < 140) or (80 <= dia < 90):\n",
    "        return 'Pre-Hypertensive'\n",
    "    else:\n",
    "        return 'Hypertensive'\n",
    "\n",
    "df_clean['diabetes_status'] = df_clean['sugar_r'].apply(classify_diabetes)\n",
    "df_clean['bp_status'] = df_clean.apply(lambda row: classify_bp(row['systolic_bp'], row['diastolic_bp']), axis=1)\n",
    "\n",
    "# STEP 5: DROP ROWS WITH MISSING TARGETS\n",
    "\n",
    "df_model = df_clean.dropna(subset=['diabetes_status', 'bp_status'])\n",
    "\n",
    "# STEP 6: DEFINE FEATURES AND LABELS\n",
    "\n",
    "features = ['blood_group', 'year', 'plant', 'department', 'age', 'sex',\n",
    "            'bmi', 'systolic_bp', 'diastolic_bp', 'sugar_r', 'chol', 'tg', 'LDL', 'VLDL']\n",
    "X = df_model[features]\n",
    "y_diabetes = df_model['diabetes_status']\n",
    "y_bp = df_model['bp_status']\n",
    "\n",
    "# STEP 7: ENCODING CATEGORICAL FEATURES\n",
    "categorical_cols = ['blood_group', 'plant', 'department', 'sex']\n",
    "encoders = {}\n",
    "\n",
    "for col in categorical_cols:\n",
    "    enc = LabelEncoder()\n",
    "    X[col] = enc.fit_transform(X[col].astype(str))\n",
    "    encoders[col] = enc\n",
    "\n",
    " #STEP 8: HANDLE MISSING VALUES\n",
    "imputer = SimpleImputer(strategy='median')\n",
    "X_imputed = pd.DataFrame(imputer.fit_transform(X), columns=X.columns)\n",
    "\n",
    "\n",
    "# STEP 9: SPLIT DATA\n",
    "X_train_d, X_test_d, y_train_d, y_test_d = train_test_split(X_imputed, y_diabetes, test_size=0.2, random_state=42)\n",
    "X_train_bp, X_test_bp, y_train_bp, y_test_bp = train_test_split(X_imputed, y_bp, test_size=0.2, random_state=42)\n",
    "\n",
    "# STEP 10: TRAIN RANDOM FOREST MODELS\n",
    "rf_diabetes = RandomForestClassifier(random_state=42)\n",
    "rf_diabetes.fit(X_train_d, y_train_d)\n",
    "\n",
    "rf_bp = RandomForestClassifier(random_state=42)\n",
    "\n",
    "rf_bp.fit(X_train_bp, y_train_bp)\n",
    "# STEP 11: EVALUATE\n",
    "print(\" Diabetes Model Accuracy:\", rf_diabetes.score(X_test_d, y_test_d))\n",
    "print(\" BP Model Accuracy:\", rf_bp.score(X_test_bp, y_test_bp))\n",
    "\n",
    "# STEP 12: SAVE MODELS & PREPROCESSORS\n",
    "with open(\"model_diabetes.pkl\", \"wb\") as f:\n",
    "    pickle.dump(rf_diabetes, f)\n",
    "\n",
    "with open(\"model_bp.pkl\", \"wb\") as f:\n",
    "    pickle.dump(rf_bp, f)\n",
    "\n",
    "with open(\"imputer.pkl\", \"wb\") as f:\n",
    "    pickle.dump(imputer, f)\n",
    "\n",
    "with open(\"label_encoders.pkl\", \"wb\") as f:\n",
    "    pickle.dump(encoders, f)\n",
    "\n",
    "\n",
    "\n",
    "\n",
    "\n"
   ]
  },
  {
   "cell_type": "code",
   "execution_count": null,
   "id": "502be1d4-5489-4147-bbb0-f3f40a37b22d",
   "metadata": {},
   "outputs": [],
   "source": []
  },
  {
   "cell_type": "code",
   "execution_count": null,
   "id": "f2cebe53-24e9-4aa2-8a00-eb02b4b0a435",
   "metadata": {},
   "outputs": [],
   "source": []
  }
 ],
 "metadata": {
  "kernelspec": {
   "display_name": "base",
   "language": "python",
   "name": "python3"
  },
  "language_info": {
   "codemirror_mode": {
    "name": "ipython",
    "version": 3
   },
   "file_extension": ".py",
   "mimetype": "text/x-python",
   "name": "python",
   "nbconvert_exporter": "python",
   "pygments_lexer": "ipython3",
   "version": "3.12.7"
  }
 },
 "nbformat": 4,
 "nbformat_minor": 5
}
